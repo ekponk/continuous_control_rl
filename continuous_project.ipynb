{
 "cells": [
  {
   "cell_type": "code",
   "execution_count": 1,
   "metadata": {},
   "outputs": [],
   "source": [
    "from unityagents import UnityEnvironment\n",
    "import numpy as np\n",
    "import os\n",
    "import random\n",
    "import torch\n",
    "from collections import deque\n",
    "import matplotlib.pyplot as plt\n",
    "from ddpg_agent import Agent"
   ]
  },
  {
   "cell_type": "code",
   "execution_count": 2,
   "metadata": {},
   "outputs": [
    {
     "name": "stderr",
     "output_type": "stream",
     "text": [
      "INFO:unityagents:\n",
      "'Academy' started successfully!\n",
      "Unity Academy name: Academy\n",
      "        Number of Brains: 1\n",
      "        Number of External Brains : 1\n",
      "        Lesson number : 0\n",
      "        Reset Parameters :\n",
      "\t\tgoal_speed -> 1.0\n",
      "\t\tgoal_size -> 5.0\n",
      "Unity brain name: ReacherBrain\n",
      "        Number of Visual Observations (per agent): 0\n",
      "        Vector Observation space type: continuous\n",
      "        Vector Observation space size (per agent): 33\n",
      "        Number of stacked Vector Observation: 1\n",
      "        Vector Action space type: continuous\n",
      "        Vector Action space size (per agent): 4\n",
      "        Vector Action descriptions: , , , \n"
     ]
    },
    {
     "name": "stdout",
     "output_type": "stream",
     "text": [
      "action_size: 4 state_size: 33\n"
     ]
    }
   ],
   "source": [
    "os.environ[\"CUDA_VISIBLE_DEVICES\"]=\"1\"\n",
    "\n",
    "env = UnityEnvironment(file_name='./Reacher_Linux/Reacher.x86_64')\n",
    "\n",
    "## get the default brain\n",
    "brain_name = env.brain_names[0]\n",
    "brain = env.brains[brain_name]\n",
    "\n",
    "# reset the environment\n",
    "env_info = env.reset(train_mode=True)[brain_name]\n",
    "\n",
    "# number of actions\n",
    "action_size = brain.vector_action_space_size\n",
    "\n",
    "# examine the state space \n",
    "state = env_info.vector_observations[0]\n",
    "state_size = len(state)\n",
    "\n",
    "print(\"action_size: {} state_size: {}\".format(action_size,state_size))"
   ]
  },
  {
   "cell_type": "code",
   "execution_count": 3,
   "metadata": {},
   "outputs": [],
   "source": [
    "## define ddpg\n",
    "def ddpg(my_agent,n_episodes=2000, max_t=10000):\n",
    "   \n",
    "    scores = []                        # list containing scores from each episode\n",
    "    scores_window = deque(maxlen=100)  # last 100 scores\n",
    "\n",
    "    for i_episode in range(1, n_episodes+1):\n",
    "        \n",
    "        env_info = env.reset(train_mode=True)[brain_name]\n",
    "        my_agent.reset()\n",
    "        \n",
    "        state = env_info.vector_observations[0]\n",
    "        score = 0\n",
    "        \n",
    "        for t in range(max_t):\n",
    "            \n",
    "            # agent chooses action\n",
    "            action=my_agent.act(state)\n",
    "            \n",
    "            # interact with environment\n",
    "            env_info = env.step(action)[brain_name]\n",
    "            (next_state,reward,done) = (\n",
    "                env_info.vector_observations[0],\n",
    "                env_info.rewards[0],\n",
    "                env_info.local_done[0])\n",
    "             \n",
    "            # update agent\n",
    "            my_agent.step(state, action, reward, next_state, done)                     \n",
    "\n",
    "            state = next_state\n",
    "            score += reward\n",
    "               \n",
    "            if done:\n",
    "                break \n",
    "                \n",
    "        scores_window.append(score)       # save most recent score\n",
    "        scores.append(score)              # save most recent score\n",
    " \n",
    "        print('\\rEpisode {}\\tAverage Score: {:.2f}'.format(i_episode, np.mean(scores_window)), end=\"\")\n",
    "        if i_episode % 10 == 0:\n",
    "            print('\\rEpisode {}\\tAverage Score: {:.2f}'.format(i_episode, np.mean(scores_window)))\n",
    "        \n",
    "        if np.mean(scores_window)>=30.0:\n",
    "            print('\\nEnvironment solved in {:d} episodes!\\tAverage Score: {:.2f}'.format(i_episode-100, np.mean(scores_window)))\n",
    "             \n",
    "            torch.save(my_agent.actor_local.state_dict(), 'checkpoint_my_actor.pth')\n",
    "            torch.save(my_agent.critic_local.state_dict(), 'checkpoint_my_critic.pth')\n",
    "            break\n",
    "\n",
    "    with open('results.txt','a') as fh:\n",
    "        fh.write(str(scores))\n",
    "        fh.write(\"\\n\")\n",
    "        fh.write(str(scores[-1]))\n",
    "        fh.write(\"\\n\")\n",
    "    \n",
    "    return scores"
   ]
  },
  {
   "cell_type": "code",
   "execution_count": 4,
   "metadata": {},
   "outputs": [],
   "source": [
    "def run_trial(config):\n",
    "    \n",
    "    ## setup my agent\n",
    "    agent_config = config['agent_config']\n",
    "    my_agent = Agent(**agent_config)\n",
    "\n",
    "    ## run the agent\n",
    "    all_scores = ddpg(\n",
    "        my_agent,\n",
    "        **config['ddpg_config']\n",
    "    )\n",
    "    \n",
    "    ## graph scores here\n",
    "    plt.plot(all_scores)\n",
    "    plt.ylabel('Score')\n",
    "    plt.xlabel('Episode #');\n",
    "    \n",
    "    return all_scores"
   ]
  },
  {
   "cell_type": "code",
   "execution_count": 7,
   "metadata": {},
   "outputs": [
    {
     "name": "stdout",
     "output_type": "stream",
     "text": [
      "Episode 10\tAverage Score: 0.95\n",
      "Episode 20\tAverage Score: 0.87\n",
      "Episode 30\tAverage Score: 1.29\n",
      "Episode 40\tAverage Score: 1.55\n",
      "Episode 50\tAverage Score: 1.97\n",
      "Episode 60\tAverage Score: 2.55\n",
      "Episode 70\tAverage Score: 3.56\n",
      "Episode 80\tAverage Score: 4.98\n",
      "Episode 90\tAverage Score: 7.15\n",
      "Episode 100\tAverage Score: 9.27\n",
      "Episode 110\tAverage Score: 12.74\n",
      "Episode 120\tAverage Score: 16.28\n",
      "Episode 130\tAverage Score: 19.64\n",
      "Episode 140\tAverage Score: 22.75\n",
      "Episode 150\tAverage Score: 25.67\n",
      "Episode 160\tAverage Score: 28.14\n",
      "Episode 169\tAverage Score: 30.13\n",
      "Environment solved in 69 episodes!\tAverage Score: 30.13\n"
     ]
    },
    {
     "data": {
      "image/png": "[encoded data removed]",
      "text/plain": [
       "<Figure size 432x288 with 1 Axes>"
      ]
     },
     "metadata": {
      "needs_background": "light"
     },
     "output_type": "display_data"
    }
   ],
   "source": [
    "cfg = {\n",
    "        'ddpg_config':{ \n",
    "            'n_episodes':200,\n",
    "            'max_t':2000,\n",
    "        },\n",
    "        'agent_config':{\n",
    "            'state_size':state_size,\n",
    "            'action_size':action_size,\n",
    "            'random_seed':123,\n",
    "            'buffer_size':10000,  # replay buffer size\n",
    "            'batch_size':64,        # minibatch size\n",
    "            'lr_actor':.002,\n",
    "            'lr_critic':.0001,\n",
    "            'gamma':0.99,\n",
    "            'tau':.001,\n",
    "            'weight_decay':0.0000,\n",
    "            'ou_theta':0.15,\n",
    "            'ou_sigma':0.2,\n",
    "            'actor_nn':[256,256],\n",
    "            'critic_nn':[256,256,128],\n",
    "            'epsilon':1.0,\n",
    "            'epsilon_decay':0.0,\n",
    "            'update_every':20,\n",
    "            'num_updates':10,\n",
    "            'hard_copy':1,\n",
    "            \n",
    "        }\n",
    "    }\n",
    "\n",
    "with open('results.txt','a') as fh:\n",
    "    fh.write(str(cfg))\n",
    "    fh.write(\"\\n\")\n",
    "    \n",
    "all_scores=run_trial(cfg)"
   ]
  },
  {
   "cell_type": "code",
   "execution_count": null,
   "metadata": {},
   "outputs": [],
   "source": [
    "## close up shop\n",
    "env.close()"
   ]
  },
  {
   "cell_type": "code",
   "execution_count": null,
   "metadata": {},
   "outputs": [],
   "source": []
  }
 ],
 "metadata": {
  "kernelspec": {
   "display_name": "drlnd",
   "language": "python",
   "name": "drlnd"
  },
  "language_info": {
   "codemirror_mode": {
    "name": "ipython",
    "version": 3
   },
   "file_extension": ".py",
   "mimetype": "text/x-python",
   "name": "python",
   "nbconvert_exporter": "python",
   "pygments_lexer": "ipython3",
   "version": "3.6.7"
  }
 },
 "nbformat": 4,
 "nbformat_minor": 2
}
